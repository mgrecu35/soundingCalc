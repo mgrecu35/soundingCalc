{
 "cells": [
  {
   "cell_type": "code",
   "execution_count": 1,
   "metadata": {},
   "outputs": [
    {
     "name": "stdout",
     "output_type": "stream",
     "text": [
      "<class 'netCDF4._netCDF4.Dataset'>\n",
      "root group (NETCDF4 data model, file format HDF5):\n",
      "    dimensions(sizes): dim_0(289), dim_1(8)\n",
      "    variables(dimensions): float32 kextR(dim_0, dim_1), float32 salbR(dim_0, dim_1), float32 asymR(dim_0, dim_1), float32 kextS(dim_0, dim_1), float32 salbS(dim_0, dim_1), float32 asymS(dim_0, dim_1), float32 kextG(dim_0, dim_1), float32 salbG(dim_0, dim_1), float32 asymG(dim_0, dim_1)\n",
      "    groups: \n"
     ]
    }
   ],
   "source": [
    "#!/usr/bin/env python\n",
    "import numpy as np\n",
    "import time\n",
    "from datetime import date\n",
    "import matplotlib.pyplot as plt\n",
    "import sys\n",
    "\n",
    "\n",
    "import lkTables\n",
    "import netCDF4 as nc\n"
   ]
  },
  {
   "cell_type": "code",
   "execution_count": 2,
   "metadata": {},
   "outputs": [
    {
     "name": "stdout",
     "output_type": "stream",
     "text": [
      "['__class__', '__delattr__', '__dict__', '__dir__', '__doc__', '__eq__', '__format__', '__ge__', '__getattribute__', '__gt__', '__hash__', '__init__', '__init_subclass__', '__le__', '__lt__', '__module__', '__ne__', '__new__', '__reduce__', '__reduce_ex__', '__repr__', '__setattr__', '__sizeof__', '__str__', '__subclasshook__', '__weakref__', 'asymBB', 'asymG', 'asymR', 'asymS', 'attKaBB', 'attKaG', 'attKaR', 'attKaS', 'attKuBB', 'attKuG', 'attKuR', 'attKuS', 'dmBB', 'dmg', 'dmr', 'dms', 'fh', 'fhBB', 'fhGMI', 'graupRate', 'gwc', 'kextBB', 'kextG', 'kextR', 'kextS', 'precRateBB', 'rainRate', 'rwc', 'salbBB', 'salbG', 'salbR', 'salbS', 'snowRate', 'swc', 'zKaBB', 'zKaG', 'zKaR', 'zKaS', 'zKuBB', 'zKuG', 'zKuR', 'zKuS']\n"
     ]
    }
   ],
   "source": [
    "lkT= lkTables.scattTables()\n",
    "print(dir(lkT))\n",
    "import sdsu_tables as sdsu\n",
    "freq=60.0\n",
    "temp=273.15\n",
    "lwc=0.1\n",
    "nc=800*1e6\n",
    "sdsu.microp_set()\n",
    "\n"
   ]
  },
  {
   "cell_type": "code",
   "execution_count": 3,
   "metadata": {},
   "outputs": [
    {
     "name": "stdout",
     "output_type": "stream",
     "text": [
      "['__doc__', '__f2py_numpy_version__', '__file__', '__loader__', '__name__', '__package__', '__spec__', '__version__', '_sdsu_tables_error', 'abh2o', 'abliq', 'absn2', 'absorb_py', 'diecon', 'diecon2', 'emiss', 'emiss2', 'emit', 'emit2', 'gasabsr98', 'microp_set', 'mie_cldw', 'o2abs', 'o2com1', 'q2wkg', 'qv2rh', 'radtran', 'vapor']\n"
     ]
    }
   ],
   "source": [
    "print(dir(sdsu))"
   ]
  },
  {
   "cell_type": "code",
   "execution_count": 25,
   "metadata": {},
   "outputs": [
    {
     "name": "stdout",
     "output_type": "stream",
     "text": [
      "(5000, 110)\n"
     ]
    }
   ],
   "source": [
    "import netCDF4 as nc\n",
    "with nc.Dataset('profiles137/saf137.nc') as f:\n",
    "    qv=f['hum'][:]\n",
    "    temp=f['temp'][:]\n",
    "    dz=f['dz'][:]\n",
    "    p=f['pap'][:]\n",
    "    rain=f['rain'][:]*3600 # convert from kg/m^2/s to mm/h\n",
    "    snow=f['snow'][:]*3600 # convert from kg/m^2/s to mm/h\n",
    "rho=p/(287.05*temp)\n",
    "print(qv.shape)"
   ]
  },
  {
   "cell_type": "code",
   "execution_count": 29,
   "metadata": {},
   "outputs": [],
   "source": [
    "for nc in [200*1e6]:\n",
    "    for lwc in [0.1,0.2,0.5,1.0]:\n",
    "        ksca,asca,gsca,pbck = sdsu.mie_cldw(freq,temp,lwc,nc)"
   ]
  },
  {
   "cell_type": "code",
   "execution_count": 22,
   "metadata": {},
   "outputs": [
    {
     "name": "stdout",
     "output_type": "stream",
     "text": [
      "[50.3, 51.76, 52.8, 53.711, 53.480999999999995, 54.4, 54.94, 55.5, 57.290344, 88.2, 165.5, 190.31, 176.31, 187.81, 178.81, 186.31, 180.31, 185.11, 181.51, 184.31, 182.31]\n"
     ]
    }
   ],
   "source": [
    "flines=open('freqTable','r').readlines()\n",
    "freqs=[]\n",
    "p_m='±'\n",
    "for l in flines:\n",
    "    lsplit=l.split()[1:]\n",
    "    #print(lsplit[0],lsplit[1])\n",
    "    if lsplit[1]==p_m:\n",
    "        freqs.append(float(lsplit[0])+float(lsplit[2]))\n",
    "        freqs.append(float(lsplit[0])-float(lsplit[2]))\n",
    "    else:\n",
    "        freqs.append(float(lsplit[0]))\n",
    "\n",
    "print(freqs)"
   ]
  },
  {
   "cell_type": "code",
   "execution_count": 30,
   "metadata": {},
   "outputs": [],
   "source": [
    "\n",
    "ifreq,iprof=0,10 # choose a frequency and a profile number\n",
    "freq=freqs[ifreq]\n",
    "nlyr=80\n",
    "\n",
    "kext1D=np.zeros(nlyr)\n",
    "asym1D=np.zeros(nlyr)\n",
    "salb1D=np.zeros(nlyr)\n",
    "fisot=2.7 # background radiation in K\n",
    "emis=0.9 # surface emissivity at the incidence angle\n",
    "ebar=0.9 # average surface emissivity \n",
    "incAngle=53.0 # incidence angle in degrees\n",
    "umu=np.cos(incAngle/180*np.pi)\n",
    "\n",
    "tb_all_profs=[]         \n",
    "for iprof in range(temp.shape[0]):\n",
    "    tbL=[]\n",
    "    for ifreq,freq in enumerate(freqs):\n",
    "        btemp=temp[iprof,-1]\n",
    "        lyrtemp=[temp[iprof,-1]]\n",
    "        freq=freqs[ifreq]\n",
    "        kext1D=np.zeros(nlyr)\n",
    "        asym1D=np.zeros(nlyr)\n",
    "        salb1D=np.zeros(nlyr)\n",
    "        fisot=2.7\n",
    "        hL=[0]\n",
    "        for k in range(nlyr):\n",
    "            nk=-1-k\n",
    "            ireturn=0\n",
    "            absair,abswv = sdsu.gasabsr98(freq,temp[iprof,nk],qv[iprof,nk]*rho[iprof,nk],p[iprof,nk],ireturn)\n",
    "            hL.append(hL[-1]+dz[iprof,nk])\n",
    "    \n",
    "            lyrtemp.append(0.5*(temp[iprof,nk]+temp[iprof,nk-1]))\n",
    "        \n",
    "            kext1D[k]=absair\n",
    "            asym1D[k]=0\n",
    "            salb1D[k]=0\n",
    "        lyrtemp=np.array(lyrtemp)\n",
    "        lyrhgt=np.array(hL)/1e3 # convert to km\n",
    "        ilambert=0\n",
    "        tb=sdsu.radtran(umu,nlyr,btemp,lyrtemp,lyrhgt,kext1D,salb1D,asym1D,fisot,emis,ebar,ilambert)\n",
    "        tbL.append(tb)\n",
    "    tb_all_profs.append(tbL)\n",
    "\n"
   ]
  },
  {
   "cell_type": "code",
   "execution_count": 31,
   "metadata": {},
   "outputs": [],
   "source": [
    "import xarray as xr\n",
    "\n",
    "tb_xr=xr.DataArray(np.array(tb_all_profs),dims=['prof','freq'],coords={'prof':range(temp.shape[0]),'freq':freqs})\n",
    "compres={'zlib':True,'complevel':5}\n",
    "encoding={'tb':compres}\n",
    "ds=xr.Dataset({'tb':tb_xr})\n",
    "ds.to_netcdf('tb_all_profs.nc',encoding=encoding)"
   ]
  }
 ],
 "metadata": {
  "kernelspec": {
   "display_name": "base",
   "language": "python",
   "name": "python3"
  },
  "language_info": {
   "codemirror_mode": {
    "name": "ipython",
    "version": 3
   },
   "file_extension": ".py",
   "mimetype": "text/x-python",
   "name": "python",
   "nbconvert_exporter": "python",
   "pygments_lexer": "ipython3",
   "version": "3.10.14"
  },
  "orig_nbformat": 4
 },
 "nbformat": 4,
 "nbformat_minor": 2
}
